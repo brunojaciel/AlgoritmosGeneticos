{
  "nbformat": 4,
  "nbformat_minor": 0,
  "metadata": {
    "colab": {
      "provenance": []
    },
    "kernelspec": {
      "name": "python3",
      "display_name": "Python 3"
    },
    "language_info": {
      "name": "python"
    }
  },
  "cells": [
    {
      "cell_type": "code",
      "execution_count": null,
      "metadata": {
        "colab": {
          "base_uri": "https://localhost:8080/"
        },
        "id": "ADoG0UeebEfH",
        "outputId": "7084037d-014b-4dbe-be6e-c89a63ac0ff9"
      },
      "outputs": [
        {
          "output_type": "execute_result",
          "data": {
            "text/plain": [
              "array([[9.99863599e-01, 1.36400770e-04],\n",
              "       [9.99762706e-01, 2.37294423e-04],\n",
              "       [7.50105660e-01, 2.49894340e-01],\n",
              "       ...,\n",
              "       [9.99862471e-01, 1.37528959e-04],\n",
              "       [7.54579360e-01, 2.45420640e-01],\n",
              "       [5.22870639e-01, 4.77129361e-01]])"
            ]
          },
          "metadata": {},
          "execution_count": 2
        }
      ],
      "source": [
        "import numpy as np\n",
        "import pandas as pd\n",
        "from sklearn import datasets\n",
        "from sklearn.neural_network import MLPClassifier\n",
        "from sklearn.metrics import accuracy_score\n",
        "from sklearn.model_selection import train_test_split\n",
        "\n",
        "#Aleatoriade para seleção dos pesos\n",
        "np.random.seed(5)\n",
        "\n",
        "#embaralha os dados do vetor sufInd\n",
        "sufInd = np.arange(1000000)\n",
        "np.random.shuffle(sufInd)\n",
        "\n",
        "#leitura do dataset\n",
        "cardFraud = pd.read_csv('card_transdata.csv')\n",
        "inputs = cardFraud.iloc[sufInd[:],:6]\n",
        "outputs = cardFraud.iloc[sufInd[:],7]\n",
        "\n",
        "#Separa os daddos de treinamento e de teste\n",
        "input_train, input_test, output_train, output_test = train_test_split(inputs, outputs, test_size=0.2, random_state=4)\n",
        "\n",
        "#Criação da classe MLPClassifier\n",
        "clf = MLPClassifier(solver='sgd', hidden_layer_sizes=(3,), learning_rate_init=0.01, activation='logistic', max_iter=1500, random_state=1)\n",
        "clf.fit(input_train, output_train)\n",
        "output_pred = clf.predict_proba(input_test)\n",
        "output_pred"
      ]
    },
    {
      "cell_type": "code",
      "source": [
        "output_aux = np.argmax(output_pred, 1)\n",
        "accuracy_score(output_test, output_aux)"
      ],
      "metadata": {
        "colab": {
          "base_uri": "https://localhost:8080/"
        },
        "id": "Gi0gU8iaemtp",
        "outputId": "b043d25b-2d56-4b37-d6a6-1308876f4c78"
      },
      "execution_count": null,
      "outputs": [
        {
          "output_type": "execute_result",
          "data": {
            "text/plain": [
              "0.943345"
            ]
          },
          "metadata": {},
          "execution_count": 3
        }
      ]
    },
    {
      "cell_type": "code",
      "source": [
        "from sklearn.preprocessing import StandardScaler\n",
        "\n",
        "#Normalização dos dados para melhorar a qualidade de acurácia\n",
        "scaler = StandardScaler()\n",
        "scaler.fit(inputs)\n",
        "inputs = scaler.transform(inputs)"
      ],
      "metadata": {
        "id": "AckXLpfjfrBS"
      },
      "execution_count": null,
      "outputs": []
    },
    {
      "cell_type": "code",
      "source": [
        "#Separa os daddos de treinamento e de teste\n",
        "input_train, input_test, output_train, output_test = train_test_split(inputs, outputs, test_size=0.2, random_state=4)\n",
        "\n",
        "#Criação da classe MLPClassifier\n",
        "clf = MLPClassifier(solver='sgd', hidden_layer_sizes=(3,), learning_rate_init=0.01, activation='logistic', max_iter=1500, random_state=1)\n",
        "clf.fit(input_train, output_train)\n",
        "output_pred = clf.predict_proba(input_test)\n",
        "\n",
        "output_aux = np.argmax(output_pred, 1)\n",
        "accuracy_score(output_test, output_aux)\n"
      ],
      "metadata": {
        "colab": {
          "base_uri": "https://localhost:8080/"
        },
        "id": "exd_aPWcgMy2",
        "outputId": "acba49d8-158f-496c-ec53-2b8380f03abb"
      },
      "execution_count": null,
      "outputs": [
        {
          "output_type": "execute_result",
          "data": {
            "text/plain": [
              "0.9443"
            ]
          },
          "metadata": {},
          "execution_count": 5
        }
      ]
    }
  ]
}